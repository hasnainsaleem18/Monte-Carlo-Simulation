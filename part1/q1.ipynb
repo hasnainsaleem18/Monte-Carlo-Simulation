{
 "cells": [
  {
   "cell_type": "markdown",
   "id": "7584b407",
   "metadata": {},
   "source": [
    "# QUESTION 01\n",
    "The area between the curve for f (x) = √(sin 2 (x)+ 1) and the x-axis from x = 0 to x = 2 "
   ]
  },
  {
   "cell_type": "code",
   "execution_count": 26,
   "id": "bcace4ee",
   "metadata": {},
   "outputs": [],
   "source": [
    "# libraries\n",
    "import numpy as np\n",
    "import matplotlib.pyplot as plt\n",
    "from scipy.integrate import quad"
   ]
  },
  {
   "cell_type": "markdown",
   "id": "94221b9b",
   "metadata": {},
   "source": [
    "#### PART A\n",
    "In the case of 2D problems, plot the function f, using some plotting library. "
   ]
  },
  {
   "cell_type": "code",
   "execution_count": 17,
   "id": "0759daa2",
   "metadata": {},
   "outputs": [
    {
     "data": {
      "image/png": "[encoded data removed]",
      "text/plain": [
       "<Figure size 640x480 with 1 Axes>"
      ]
     },
     "metadata": {},
     "output_type": "display_data"
    }
   ],
   "source": [
    "# Define the function\n",
    "def f(x):\n",
    "    return np.sqrt(np.sin(x)**2 + 1)\n",
    "\n",
    "# Generate x values from 0 to 2\n",
    "x = np.linspace(0, 2, 100)\n",
    "\n",
    "# Generate y values using the function\n",
    "y = f(x)\n",
    "\n",
    "# Plot the function\n",
    "plt.plot(x, y, label='$f(x) = \\sqrt{sin^2(x) + 1}$')\n",
    "plt.fill_between(x, y, color='lightyellow', alpha=0.5)  # Fill the area under the curve\n",
    "plt.xlabel('x')\n",
    "plt.ylabel('f(x) & y')\n",
    "plt.title('Plot of $f(x) = \\sqrt{sin^2(x) + 1}$')\n",
    "plt.legend()\n",
    "plt.grid(True)\n",
    "plt.show()\n"
   ]
  },
  {
   "cell_type": "markdown",
   "id": "e9944cd8",
   "metadata": {},
   "source": [
    "#### PART B\n",
    "Using the Monte Carlo technique, define a function in any programming language with a parameter for the number of darts that returns an estimate of the indicated value.\n"
   ]
  },
  {
   "cell_type": "code",
   "execution_count": 18,
   "id": "f81f3617",
   "metadata": {},
   "outputs": [],
   "source": [
    "def monte_carlo_area_estimate(num_darts):\n",
    "    count_under_curve = 0\n",
    "    \n",
    "    for _ in range(num_darts):\n",
    "        # Generate random x and y coordinates\n",
    "        x = np.random.uniform(0, 2)\n",
    "        y = np.random.uniform(0, 2)  # Assuming the maximum value of f(x) is 2\n",
    "        \n",
    "        # Check if the random point is under the curve\n",
    "        if y <= np.sqrt(np.sin(x)**2 + 1):\n",
    "            count_under_curve += 1\n",
    "    \n",
    "    # Calculate the proportion of darts that landed under the curve\n",
    "    proportion_under_curve = count_under_curve / num_darts\n",
    "    \n",
    "    # Estimate the total area by multiplying the proportion by the total area of the rectangle (2 * 2)\n",
    "    total_area_estimate = proportion_under_curve * 2 * 2\n",
    "    \n",
    "    return total_area_estimate"
   ]
  },
  {
   "cell_type": "markdown",
   "id": "631593b7",
   "metadata": {},
   "source": [
    "#### PART C\n",
    "Define a function that calls the function from Part b 1000 times and returns the mean and standard deviation of the results. "
   ]
  },
  {
   "cell_type": "code",
   "execution_count": 19,
   "id": "91711e34",
   "metadata": {},
   "outputs": [],
   "source": [
    "def monte_carlo_mean_and_std(num_darts, num_simulations):\n",
    "    area_estimates = []\n",
    "    \n",
    "    # Perform Monte Carlo simulation num_simulations times\n",
    "    for _ in range(num_simulations):\n",
    "        area_estimate = monte_carlo_area_estimate(num_darts)\n",
    "        area_estimates.append(area_estimate)\n",
    "    \n",
    "    # Calculate mean and standard deviation of the area estimates\n",
    "    mean_estimate = np.mean(area_estimates)\n",
    "    std_dev_estimate = np.std(area_estimates)\n",
    "    \n",
    "    return mean_estimate, std_dev_estimate"
   ]
  },
  {
   "cell_type": "code",
   "execution_count": 23,
   "id": "bf7c683d",
   "metadata": {},
   "outputs": [
    {
     "name": "stdout",
     "output_type": "stream",
     "text": [
      "Mean area estimate: 2.5076103999999995\n",
      "Standard deviation of area estimates: 0.01878705649749316\n"
     ]
    }
   ],
   "source": [
    "num_darts = 10000  # Adjust this number as needed\n",
    "num_simulations = 1000\n",
    "mean, std_dev = monte_carlo_mean_and_std(num_darts, num_simulations)\n",
    "print(\"Mean area estimate:\", mean)\n",
    "print(\"Standard deviation of area estimates:\", std_dev)"
   ]
  },
  {
   "cell_type": "markdown",
   "id": "c8253a94",
   "metadata": {},
   "source": [
    "#### PART D\n",
    "Using any computational tool or programming language, calculate the answer with integration. "
   ]
  },
  {
   "cell_type": "code",
   "execution_count": 24,
   "id": "e412e132",
   "metadata": {},
   "outputs": [
    {
     "name": "stdout",
     "output_type": "stream",
     "text": [
      "Numerical integration result: 2.5079821142265053\n"
     ]
    }
   ],
   "source": [
    "# Perform numerical integration\n",
    "result,_ = quad(f, 0, 2)\n",
    "\n",
    "print(\"Numerical integration result:\", result)"
   ]
  },
  {
   "cell_type": "markdown",
   "id": "dd10823d",
   "metadata": {},
   "source": [
    "#### PART E\n",
    "Find the percentage error between the analytical solution and the solution by Monte Carlo’s method (the mean value from part c) for each of the questions. "
   ]
  },
  {
   "cell_type": "code",
   "execution_count": 25,
   "id": "2632fb30",
   "metadata": {},
   "outputs": [
    {
     "name": "stdout",
     "output_type": "stream",
     "text": [
      "Percentage error between analytical solution and Monte Carlo solution: 0.014821247105284029 %\n"
     ]
    }
   ],
   "source": [
    "analytical_solution = result  # This should be replaced with the actual numerical integration result from part d\n",
    "\n",
    "monte_carlo_mean = mean  # This should be replaced with the actual mean value from part c\n",
    "\n",
    "percentage_error = np.abs((analytical_solution - monte_carlo_mean) / analytical_solution) * 100\n",
    "\n",
    "print(\"Percentage error between analytical solution and Monte Carlo solution:\", percentage_error, \"%\")\n"
   ]
  },
  {
   "cell_type": "code",
   "execution_count": null,
   "id": "99225109",
   "metadata": {},
   "outputs": [],
   "source": []
  },
  {
   "cell_type": "code",
   "execution_count": null,
   "id": "b8efa3f6",
   "metadata": {},
   "outputs": [],
   "source": []
  }
 ],
 "metadata": {
  "kernelspec": {
   "display_name": "Python 3 (ipykernel)",
   "language": "python",
   "name": "python3"
  },
  "language_info": {
   "codemirror_mode": {
    "name": "ipython",
    "version": 3
   },
   "file_extension": ".py",
   "mimetype": "text/x-python",
   "name": "python",
   "nbconvert_exporter": "python",
   "pygments_lexer": "ipython3",
   "version": "3.11.7"
  }
 },
 "nbformat": 4,
 "nbformat_minor": 5
}
