{
 "cells": [
  {
   "cell_type": "markdown",
   "id": "0028d99b",
   "metadata": {},
   "source": [
    "# QUESTION 01\n",
    "The area between the curve for f(x) = x 3 and the x-axis from x = 2 to x = 3\n"
   ]
  },
  {
   "cell_type": "code",
   "execution_count": 8,
   "id": "f9f69037",
   "metadata": {},
   "outputs": [],
   "source": [
    "# libraries\n",
    "import numpy as np\n",
    "import matplotlib.pyplot as plt\n",
    "from scipy.integrate import quad"
   ]
  },
  {
   "cell_type": "markdown",
   "id": "4814abfe",
   "metadata": {},
   "source": [
    "#### PART A\n",
    "In the case of 2D problems, plot the function f, using some plotting library. "
   ]
  },
  {
   "cell_type": "code",
   "execution_count": 14,
   "id": "81e71b3d",
   "metadata": {},
   "outputs": [
    {
     "data": {
      "image/png": "[encoded data removed]",
      "text/plain": [
       "<Figure size 640x480 with 1 Axes>"
      ]
     },
     "metadata": {},
     "output_type": "display_data"
    }
   ],
   "source": [
    "# Define the function\n",
    "def f(x):\n",
    "    return x**3\n",
    "\n",
    "# Generate x values from 0 to 2\n",
    "x = np.linspace(2, 3, 100)\n",
    "\n",
    "# Generate y values using the function\n",
    "y = f(x)\n",
    "\n",
    "# Plot the function\n",
    "plt.plot(x, y, label='$f(x) = x^3$')\n",
    "plt.fill_between(x, y, color='lightyellow', alpha=0.5)  # Fill the area under the curve\n",
    "plt.xlabel('x')\n",
    "plt.ylabel('f(x) & y')\n",
    "plt.title('Plot of $f(x) = x^3$')\n",
    "plt.legend()\n",
    "plt.grid(True)\n",
    "plt.show()"
   ]
  },
  {
   "cell_type": "markdown",
   "id": "26939a50",
   "metadata": {},
   "source": [
    "#### PART B\n",
    "Using the Monte Carlo technique, define a function in any programming language with a parameter for the number of darts that returns an estimate of the indicated value."
   ]
  },
  {
   "cell_type": "code",
   "execution_count": 15,
   "id": "b9c8189b",
   "metadata": {},
   "outputs": [],
   "source": [
    "def monte_carlo_area_estimate(num_darts):\n",
    "    count_under_curve = 0\n",
    "    \n",
    "    for _ in range(num_darts):\n",
    "        # Generate random x and y coordinates\n",
    "        x = np.random.uniform(2, 3)\n",
    "        y = np.random.uniform(0, 27)  # Assuming the maximum value of f(x) is 2\n",
    "        \n",
    "        # Check if the random point is under the curve\n",
    "        if y <= x**3:\n",
    "            count_under_curve += 1\n",
    "    \n",
    "    # Calculate the proportion of darts that landed under the curve\n",
    "    proportion_under_curve = count_under_curve / num_darts\n",
    "    \n",
    "    # Estimate the total area by multiplying the proportion by the total area of the rectangle (2 * 2)\n",
    "    total_area_estimate = proportion_under_curve * 1 * 27\n",
    "    \n",
    "    return total_area_estimate"
   ]
  },
  {
   "cell_type": "markdown",
   "id": "2c2ae41c",
   "metadata": {},
   "source": [
    "#### PART C\n",
    "Define a function that calls the function from Part b 1000 times and returns the mean and standard deviation of the results. "
   ]
  },
  {
   "cell_type": "code",
   "execution_count": 17,
   "id": "ce4db8a4",
   "metadata": {},
   "outputs": [],
   "source": [
    "def monte_carlo_mean_and_std(num_darts, num_simulations):\n",
    "    area_estimates = []\n",
    "    \n",
    "    # Perform Monte Carlo simulation num_simulations times\n",
    "    for _ in range(num_simulations):\n",
    "        area_estimate = monte_carlo_area_estimate(num_darts)\n",
    "        area_estimates.append(area_estimate)\n",
    "    \n",
    "    # Calculate mean and standard deviation of the area estimates\n",
    "    mean_estimate = np.mean(area_estimates)\n",
    "    std_dev_estimate = np.std(area_estimates)\n",
    "    \n",
    "    return mean_estimate, std_dev_estimate"
   ]
  },
  {
   "cell_type": "code",
   "execution_count": 18,
   "id": "2ad16f39",
   "metadata": {},
   "outputs": [
    {
     "name": "stdout",
     "output_type": "stream",
     "text": [
      "Mean area estimate: 16.2522558\n",
      "Standard deviation of area estimates: 0.13167218433048042\n"
     ]
    }
   ],
   "source": [
    "num_darts = 10000  # Adjust this number as needed\n",
    "num_simulations = 1000\n",
    "mean, std_dev = monte_carlo_mean_and_std(num_darts, num_simulations)\n",
    "print(\"Mean area estimate:\", mean)\n",
    "print(\"Standard deviation of area estimates:\", std_dev)"
   ]
  },
  {
   "cell_type": "markdown",
   "id": "13808b4e",
   "metadata": {},
   "source": [
    "#### PART D\n",
    "Using any computational tool or programming language, calculate the answer with integration. "
   ]
  },
  {
   "cell_type": "code",
   "execution_count": null,
   "id": "88066ee1",
   "metadata": {},
   "outputs": [],
   "source": [
    "# Perform numerical integration\n",
    "result,_ = quad(f, 2, 3)\n",
    "\n",
    "print(\"Numerical integration result:\", result)"
   ]
  }
 ],
 "metadata": {
  "kernelspec": {
   "display_name": "Python 3 (ipykernel)",
   "language": "python",
   "name": "python3"
  },
  "language_info": {
   "codemirror_mode": {
    "name": "ipython",
    "version": 3
   },
   "file_extension": ".py",
   "mimetype": "text/x-python",
   "name": "python",
   "nbconvert_exporter": "python",
   "pygments_lexer": "ipython3",
   "version": "3.11.7"
  }
 },
 "nbformat": 4,
 "nbformat_minor": 5
}
